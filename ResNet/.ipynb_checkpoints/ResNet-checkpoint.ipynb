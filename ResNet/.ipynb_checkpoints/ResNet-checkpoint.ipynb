{
 "cells": [
  {
   "cell_type": "code",
   "execution_count": 1,
   "id": "01e08ac5",
   "metadata": {},
   "outputs": [],
   "source": [
    "import tensorflow as tf\n",
    "from tensorflow.keras.layers import Conv2D, MaxPooling2D, PReLU, ReLU, Dropout, BatchNormalization\n",
    "from tensorflow.keras.layers import Input, Dense, Flatten, Concatenate, AveragePooling2D, Add\n",
    "from tensorflow.keras.models import Model\n",
    "from tensorflow.keras.utils import plot_model\n",
    "from tensorflow.keras.initializers import Constant\n",
    "from tensorflow.keras import Sequential\n",
    "import pydot, graphviz"
   ]
  },
  {
   "cell_type": "code",
   "execution_count": null,
   "id": "01295e6a",
   "metadata": {},
   "outputs": [],
   "source": [
    "def Residual_Module(in_layer, K, stride=(1,1), bottleneck=True, pre_activation=True, red=False):\n",
    "    \n",
    "    layer = in_layer\n",
    "    if bottleneck:\n",
    "        layer = BatchNormalization()(layer) if pre_activation else layer\n",
    "        layer = ReLU()(layer) if pre_activation else layer\n",
    "        layer = Conv2D(K//4, (1,1), strides=stride, kernel_initialization=\"he-normal\",\n",
    "                       bias_initializer=Constant(value=0.2), padding=\"same\")(layer)\n",
    "        layer = BatchNormalization()(layer) if not pre_activation else layer\n",
    "        layer = ReLU()(layer) if not pre_activation else layer\n",
    "        \n",
    "        layer = BatchNormalization()(layer) if pre_activation else layer\n",
    "        layer = ReLU()(layer) if pre_activation else layer\n",
    "        layer = Conv2D(K//4, (3,3), kernel_initialization=\"he-normal\",\n",
    "                       bias_initializer=Constant(value=0.2), padding=\"same\")(layer)\n",
    "        layer = BatchNormalization()(layer) if not pre_activation else layer\n",
    "        layer = ReLU()(layer) if not pre_activation else layer\n",
    "        \n",
    "        layer = BatchNormalization()(layer) if pre_activation else layer\n",
    "        layer = ReLU()(layer) if pre_activation else layer\n",
    "        layer = Conv2D(K, (1,1), kernel_initialization=\"he-normal\",\n",
    "                       bias_initializer=Constant(value=0.2), padding=\"same\")(layer)\n",
    "        layer = BatchNormalization()(layer) if not pre_activation else layer\n",
    "        layer = ReLU()(layer) if not pre_activation else layer\n",
    "        \n",
    "    else:\n",
    "        layer = BatchNormalization()(layer) if pre_activation else layer\n",
    "        layer = ReLU()(layer) if pre_activation else layer\n",
    "        layer = Conv2D(K, (3,3), strides=stride, kernel_initialization=\"he-normal\",\n",
    "                       bias_initializer=Constant(value=0.2), padding=\"same\")(layer)\n",
    "        layer = BatchNormalization()(layer) if not pre_activation else layer\n",
    "        layer = ReLU()(layer) if not pre_activation else layer\n",
    "        \n",
    "        layer = BatchNormalization()(layer) if pre_activation else layer\n",
    "        layer = ReLU()(layer) if pre_activation else layer\n",
    "        layer = Conv2D(K, (3,3), kernel_initialization=\"he-normal\",\n",
    "                       bias_initializer=Constant(value=0.2), padding=\"same\")(layer)\n",
    "        layer = BatchNormalization()(layer) if not pre_activation else layer\n",
    "        layer = ReLU()(layer) if not pre_activation else layer\n",
    "        \n",
    "\n",
    "    shortcut = Conv2D(K, (1,1), kernel_initialization=\"he-normal\",\n",
    "                    bias_initializer=Constant(value=0.2), padding=\"same\")(in_layer) if red else in_layer\n",
    "        \n",
    "    out_layer = Add()([layer, shortcut])\n",
    "    \n",
    "    return out_layer\n",
    "        \n",
    "\n",
    "def \n",
    "        \n",
    "    \n",
    "        "
   ]
  }
 ],
 "metadata": {
  "kernelspec": {
   "display_name": "Python 3",
   "language": "python",
   "name": "python3"
  },
  "language_info": {
   "codemirror_mode": {
    "name": "ipython",
    "version": 3
   },
   "file_extension": ".py",
   "mimetype": "text/x-python",
   "name": "python",
   "nbconvert_exporter": "python",
   "pygments_lexer": "ipython3",
   "version": "3.9.4"
  }
 },
 "nbformat": 4,
 "nbformat_minor": 5
}
